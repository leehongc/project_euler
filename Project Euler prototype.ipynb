{
 "cells": [
  {
   "cell_type": "markdown",
   "metadata": {},
   "source": [
    "### Problem 3: Largest prime factor"
   ]
  },
  {
   "cell_type": "code",
   "execution_count": 3,
   "metadata": {},
   "outputs": [],
   "source": [
    "'''\n",
    "The prime factors of 13195 are 5, 7, 13 and 29.\n",
    "\n",
    "What is the largest prime factor of the given number?\n",
    "'''\n",
    "## Note this function is not working as expected yet.\n",
    "## Still need to implement the largest prime\n",
    "\n",
    "def largestPrimeFactor(number):\n",
    "\n",
    "    def is_prime(number):\n",
    "    \n",
    "        if number <2:\n",
    "            return\n",
    "        elif number == 2:\n",
    "            return True\n",
    "        elif number %2 == 0:\n",
    "            return False\n",
    "\n",
    "        result = True\n",
    "\n",
    "        for num in range(2, number):\n",
    "            if number % num ==0:\n",
    "                result = False \n",
    "                break\n",
    "\n",
    "\n",
    "        return result\n",
    "    \n",
    "    if number < 2:\n",
    "        return \"invalid\"\n",
    "    \n",
    "    elif number%2==0:\n",
    "        return 2\n",
    "    \n",
    "    elif number == 3:\n",
    "        return 3\n",
    "    \n",
    "    for n in range(3, number+1, 2):\n",
    "        print(\"n: \", n)\n",
    "        if is_prime(n) and number % n ==0:\n",
    "            largest_prime = n\n",
    "            print(\"largest prime: \", largest_prime)\n",
    "                \n",
    "    return largest_prime\n",
    "    "
   ]
  },
  {
   "cell_type": "code",
   "execution_count": 4,
   "metadata": {},
   "outputs": [
    {
     "name": "stdout",
     "output_type": "stream",
     "text": [
      "5\n"
     ]
    },
    {
     "data": {
      "text/plain": [
       "5"
      ]
     },
     "execution_count": 4,
     "metadata": {},
     "output_type": "execute_result"
    }
   ],
   "source": [
    "largestPrimeFactor(5)"
   ]
  },
  {
   "cell_type": "code",
   "execution_count": 5,
   "metadata": {},
   "outputs": [
    {
     "name": "stdout",
     "output_type": "stream",
     "text": [
      "5\n",
      "7\n",
      "13\n",
      "29\n"
     ]
    },
    {
     "data": {
      "text/plain": [
       "29"
      ]
     },
     "execution_count": 5,
     "metadata": {},
     "output_type": "execute_result"
    }
   ],
   "source": [
    "largestPrimeFactor(13195)"
   ]
  },
  {
   "cell_type": "markdown",
   "metadata": {},
   "source": [
    "### Problem 4: Largest palindrome product"
   ]
  },
  {
   "cell_type": "code",
   "execution_count": 4,
   "metadata": {},
   "outputs": [],
   "source": [
    "'''\n",
    "A palindromic number reads the same both ways. The largest palindrome made from \n",
    "the product of two 2-digit numbers is 9009 = 91 × 99.\n",
    "\n",
    "Find the largest palindrome made from the product of two 3-digit numbers.\n",
    "'''\n",
    "\n",
    "\n",
    "def largestPalindromeProduct():\n",
    "    \n",
    "    def isPalindrome(number):\n",
    "        return str(number)==str(number)[::-1]\n",
    "    \n",
    "    largest_palindrome = 0\n",
    "\n",
    "    for i in range(100,1000):\n",
    "        for j in range(100,1000):\n",
    "            product = i*j\n",
    "            if isPalindrome(product) and product > largest_palindrome:\n",
    "                largest_palindrome = product\n",
    "\n",
    "    return largest_palindrome"
   ]
  },
  {
   "cell_type": "code",
   "execution_count": 5,
   "metadata": {},
   "outputs": [
    {
     "data": {
      "text/plain": [
       "906609"
      ]
     },
     "execution_count": 5,
     "metadata": {},
     "output_type": "execute_result"
    }
   ],
   "source": [
    "largestPalindromeProduct()"
   ]
  },
  {
   "cell_type": "code",
   "execution_count": 8,
   "metadata": {},
   "outputs": [],
   "source": [
    "'''\n",
    "The freecodecamp version is n-digit numbers\n",
    "\n",
    "need to think about how to present n-digit numbers\n",
    "example range for n=2 would be 10 to 99\n",
    "'''\n",
    "\n",
    "def nDigitNumbers(n):\n",
    "    start = 10**(n-1)\n",
    "    end = 10**n-1\n",
    "\n",
    "    for number in range(start, end+1):\n",
    "        print(number)    "
   ]
  },
  {
   "cell_type": "code",
   "execution_count": 1,
   "metadata": {},
   "outputs": [],
   "source": [
    "def largestPalindromeProduct(n):\n",
    "    \n",
    "    def isPalindrome(number):\n",
    "        return str(number)==str(number)[::-1]\n",
    "    \n",
    "    largest_palindrome = 0\n",
    "    \n",
    "    start = 10**(n-1)\n",
    "    end = 10**n\n",
    "    for i in range(start, end):\n",
    "        for j in range(start, end):\n",
    "            product = i*j\n",
    "            if isPalindrome(product) and product > largest_palindrome:\n",
    "                largest_palindrome = product\n",
    "\n",
    "    return largest_palindrome"
   ]
  },
  {
   "cell_type": "code",
   "execution_count": 2,
   "metadata": {},
   "outputs": [
    {
     "data": {
      "text/plain": [
       "906609"
      ]
     },
     "execution_count": 2,
     "metadata": {},
     "output_type": "execute_result"
    }
   ],
   "source": [
    "largestPalindromeProduct(3)"
   ]
  },
  {
   "cell_type": "markdown",
   "metadata": {},
   "source": [
    "### Problem 5: Smallest multiple"
   ]
  },
  {
   "cell_type": "code",
   "execution_count": 2,
   "metadata": {},
   "outputs": [],
   "source": [
    "'''\n",
    "2520 is the smallest number that can be divided by each of the numbers from 1 to 10 without any remainder.\n",
    "\n",
    "What is the smallest positive number that is evenly divisible by all of the numbers from 1 to n?\n",
    "\n",
    "\n",
    "smallestMult(5) should return 60.\n",
    "smallestMult(7) should return 420.\n",
    "smallestMult(10) should return 2,520.\n",
    "smallestMult(13) should return 360,360.\n",
    "smallestMult(20) should return 232,792,560.\n",
    "\n",
    "'''\n",
    "\n",
    "def smallestMult():\n",
    "    return"
   ]
  },
  {
   "cell_type": "code",
   "execution_count": null,
   "metadata": {},
   "outputs": [],
   "source": [
    "'''\n",
    "initial thought for smallestMult(5) is 5*4*3 = 60\n",
    "or (5*4*3*2)/2\n",
    "\n",
    "\n",
    "intial thought for smallestMult(7) is 7*6*5 = 210 => 7*6*5*(skip 4,3)*2 = 420\n",
    "or (7*6*5*4)/2\n",
    "\n",
    "\n",
    "initial thought for smallMult(10) is 10*9*8*7 = 5040 \n",
    "or (10*9*8*7)/2\n",
    "or (10*9*7*4), skip 8 beceause 4 is a prime factor of it\n",
    "\n",
    "\n",
    "\n",
    "initial thought for smallestMult(13)\n",
    "13*12*11*7*5*3*2\n",
    "Beside 12, the rest of the numbers are prime numbers\n",
    "'''"
   ]
  }
 ],
 "metadata": {
  "kernelspec": {
   "display_name": "Python 3",
   "language": "python",
   "name": "python3"
  },
  "language_info": {
   "codemirror_mode": {
    "name": "ipython",
    "version": 3
   },
   "file_extension": ".py",
   "mimetype": "text/x-python",
   "name": "python",
   "nbconvert_exporter": "python",
   "pygments_lexer": "ipython3",
   "version": "3.7.3"
  }
 },
 "nbformat": 4,
 "nbformat_minor": 2
}
