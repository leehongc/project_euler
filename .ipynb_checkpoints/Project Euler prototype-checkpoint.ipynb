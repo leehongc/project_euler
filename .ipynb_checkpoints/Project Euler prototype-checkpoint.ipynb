{
 "cells": [
  {
   "cell_type": "markdown",
   "metadata": {},
   "source": [
    "### Problem 3: Largest prime factor"
   ]
  },
  {
   "cell_type": "code",
   "execution_count": 82,
   "metadata": {},
   "outputs": [],
   "source": [
    "'''\n",
    "The prime factors of 13195 are 5, 7, 13 and 29.\n",
    "\n",
    "What is the largest prime factor of the given number?\n",
    "'''\n",
    "## Note this function is not working as expected yet.\n",
    "## Still need to implement the largest prime\n",
    "\n",
    "def largestPrimeFactor(number):\n",
    "\n",
    "    if number<2:\n",
    "        return \"invalid\"\n",
    "    \n",
    "    elif number==2:\n",
    "        return 2\n",
    "    \n",
    "    def is_prime(number):\n",
    "    \n",
    "        if number <2:\n",
    "            return\n",
    "        elif number == 2:\n",
    "            return True\n",
    "        elif number %2 == 0:\n",
    "            return False\n",
    "\n",
    "        result = True\n",
    "\n",
    "        for num in range(2, number):\n",
    "            if number % num ==0:\n",
    "                result = False \n",
    "                break\n",
    "\n",
    "\n",
    "        return result\n",
    "    \n",
    "    primes = []\n",
    "    \n",
    "    for num in range(3, number+1, 2):\n",
    "        if is_prime(num):\n",
    "            primes.append(num)\n",
    "        \n",
    "    if len(primes)>0:\n",
    "        return primes.pop()    "
   ]
  },
  {
   "cell_type": "code",
   "execution_count": 83,
   "metadata": {},
   "outputs": [
    {
     "data": {
      "text/plain": [
       "3"
      ]
     },
     "execution_count": 83,
     "metadata": {},
     "output_type": "execute_result"
    }
   ],
   "source": [
    "largestPrimeFactor(3)"
   ]
  },
  {
   "cell_type": "code",
   "execution_count": 85,
   "metadata": {},
   "outputs": [
    {
     "data": {
      "text/plain": [
       "13187"
      ]
     },
     "execution_count": 85,
     "metadata": {},
     "output_type": "execute_result"
    }
   ],
   "source": [
    "largestPrimeFactor(13195)"
   ]
  },
  {
   "cell_type": "code",
   "execution_count": null,
   "metadata": {},
   "outputs": [],
   "source": []
  }
 ],
 "metadata": {
  "kernelspec": {
   "display_name": "Python 3",
   "language": "python",
   "name": "python3"
  },
  "language_info": {
   "codemirror_mode": {
    "name": "ipython",
    "version": 3
   },
   "file_extension": ".py",
   "mimetype": "text/x-python",
   "name": "python",
   "nbconvert_exporter": "python",
   "pygments_lexer": "ipython3",
   "version": "3.7.3"
  }
 },
 "nbformat": 4,
 "nbformat_minor": 2
}
